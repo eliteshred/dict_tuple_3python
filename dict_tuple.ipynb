{
 "cells": [
  {
   "cell_type": "markdown",
   "metadata": {},
   "source": [
    "#### Python dict method"
   ]
  },
  {
   "cell_type": "markdown",
   "metadata": {},
   "source": [
    "##### dict clear method"
   ]
  },
  {
   "cell_type": "code",
   "execution_count": 3,
   "metadata": {},
   "outputs": [
    {
     "name": "stdout",
     "output_type": "stream",
     "text": [
      "{}\n"
     ]
    }
   ],
   "source": [
    "animal = {\n",
    "    \"name\"  :  \"python\",\n",
    "    \"specie\": \"cold one\",\n",
    "    \"color\" : \"green\"\n",
    "}\n",
    "animal.clear()\n",
    "print(animal)"
   ]
  },
  {
   "cell_type": "markdown",
   "metadata": {},
   "source": [
    "##### dict copy mehod"
   ]
  },
  {
   "cell_type": "code",
   "execution_count": 4,
   "metadata": {},
   "outputs": [
    {
     "name": "stdout",
     "output_type": "stream",
     "text": [
      "{'cover': 'black', 'pages': 56, 'patter': 'square'}\n"
     ]
    }
   ],
   "source": [
    "book = {\n",
    "    \"cover\" : \"black\",\n",
    "    \"pages\"  : 56,\n",
    "    \"patter\" : \"square\"\n",
    "}\n",
    "book.copy()\n",
    "print(book)"
   ]
  },
  {
   "cell_type": "markdown",
   "metadata": {},
   "source": [
    "##### dict fromkeys method"
   ]
  },
  {
   "cell_type": "code",
   "execution_count": 6,
   "metadata": {},
   "outputs": [
    {
     "name": "stdout",
     "output_type": "stream",
     "text": [
      "{'male1': 0, 'male2': 0, 'male3': 0}\n"
     ]
    }
   ],
   "source": [
    "a = (\"male1\",\"male2\",\"male3\")\n",
    "a2 = 0\n",
    "\n",
    "a3 = dict.fromkeys(a,a2)\n",
    "print(a3)"
   ]
  },
  {
   "cell_type": "markdown",
   "metadata": {},
   "source": [
    "##### dict get method"
   ]
  },
  {
   "cell_type": "code",
   "execution_count": 8,
   "metadata": {},
   "outputs": [
    {
     "name": "stdout",
     "output_type": "stream",
     "text": [
      "12\n"
     ]
    }
   ],
   "source": [
    "student = {\n",
    "    \"name\": \"rani\",\n",
    "    \"age\": 12,\n",
    "    \"gender\": \"female\"\n",
    "\n",
    "}\n",
    "b = student.get(\"age\")\n",
    "print(b)"
   ]
  },
  {
   "cell_type": "markdown",
   "metadata": {},
   "source": [
    "##### dict item method"
   ]
  },
  {
   "cell_type": "code",
   "execution_count": 11,
   "metadata": {},
   "outputs": [
    {
     "name": "stdout",
     "output_type": "stream",
     "text": [
      "dict_items([('name', 'rohit'), ('post', 'intern'), ('experince', 2)])\n"
     ]
    }
   ],
   "source": [
    "employees = {\n",
    "    \"name\": \"ragu\",\n",
    "    \"post\": \"intern\",\n",
    "    \"experince\": 2\n",
    "}\n",
    "\n",
    "d = employees.items()\n",
    "employees[\"name\"] = \"rohit\"\n",
    "print(d)"
   ]
  },
  {
   "cell_type": "markdown",
   "metadata": {},
   "source": [
    "##### dict keys method"
   ]
  },
  {
   "cell_type": "code",
   "execution_count": 13,
   "metadata": {},
   "outputs": [
    {
     "name": "stdout",
     "output_type": "stream",
     "text": [
      "dict_keys(['company', 'name', 'color'])\n"
     ]
    }
   ],
   "source": [
    "device = {\n",
    "    \"company\" : \"hp\",\n",
    "    \n",
    "    \"name\": \"mobile\"\n",
    "}\n",
    "\n",
    "e = device.keys()\n",
    "device [\"color\"] = \"yellow\"\n",
    "print(e)"
   ]
  },
  {
   "cell_type": "markdown",
   "metadata": {},
   "source": [
    "#### dict pop method"
   ]
  },
  {
   "cell_type": "code",
   "execution_count": 19,
   "metadata": {},
   "outputs": [
    {
     "name": "stdout",
     "output_type": "stream",
     "text": [
      "{'type': 'womenclothing', 'name': 'top'}\n"
     ]
    }
   ],
   "source": [
    "cloth = {\n",
    "    \"type\" : \"womenclothing\",\n",
    "    \"name\": \"top\",\n",
    "    \"price\": 500\n",
    "\n",
    "}\n",
    "\n",
    "cloth.pop(\"price\")\n",
    "print(cloth)"
   ]
  },
  {
   "cell_type": "markdown",
   "metadata": {},
   "source": [
    "#### dict popitem method"
   ]
  },
  {
   "cell_type": "code",
   "execution_count": 21,
   "metadata": {},
   "outputs": [
    {
     "name": "stdout",
     "output_type": "stream",
     "text": [
      "{'name': 'mango', 'color': 'red'}\n"
     ]
    }
   ],
   "source": [
    "fruit = {\n",
    "    \"name\" : \"mango\",\n",
    "    \"color\": \"red\",\n",
    "    \"price\": 56\n",
    "}\n",
    "fruit.popitem()\n",
    "print(fruit)"
   ]
  },
  {
   "cell_type": "markdown",
   "metadata": {},
   "source": [
    "##### dict setdefault method"
   ]
  },
  {
   "cell_type": "code",
   "execution_count": 23,
   "metadata": {},
   "outputs": [
    {
     "name": "stdout",
     "output_type": "stream",
     "text": [
      "White\n"
     ]
    }
   ],
   "source": [
    "car = {\n",
    "  \"brand\": \"Mercedes\",\n",
    "  \"model\": \"E350\",\n",
    "  \"year\": 2000\n",
    "}\n",
    "\n",
    "f = car.setdefault(\"color\", \"White\")\n",
    "\n",
    "print(f)\n"
   ]
  },
  {
   "cell_type": "markdown",
   "metadata": {},
   "source": [
    "##### dict update method"
   ]
  },
  {
   "cell_type": "code",
   "execution_count": 24,
   "metadata": {},
   "outputs": [
    {
     "name": "stdout",
     "output_type": "stream",
     "text": [
      "{'name': 'pande sir', 'subject': 'english', 'gender': 'male'}\n"
     ]
    }
   ],
   "source": [
    "teacher = {\n",
    "    \"name\" : \"pande sir\",\n",
    "    \"subject\": \"english\"\n",
    "}\n",
    "teacher.update({\"gender\": \"male\"})\n",
    "print(teacher)"
   ]
  },
  {
   "cell_type": "markdown",
   "metadata": {},
   "source": [
    "##### dict values method"
   ]
  },
  {
   "cell_type": "code",
   "execution_count": 26,
   "metadata": {},
   "outputs": [
    {
     "name": "stdout",
     "output_type": "stream",
     "text": [
      "dict_values(['it', 1977, 33])\n"
     ]
    }
   ],
   "source": [
    "company = {\n",
    "    \"type\": \"it\",\n",
    "    \"year\" : 1977,\n",
    "    \"no_of_branch\": 33\n",
    "}\n",
    "y = company.values()\n",
    "print(y)"
   ]
  },
  {
   "cell_type": "markdown",
   "metadata": {},
   "source": [
    "####  Python tuple method"
   ]
  },
  {
   "cell_type": "markdown",
   "metadata": {},
   "source": [
    "##### tuple count method"
   ]
  },
  {
   "cell_type": "code",
   "execution_count": 28,
   "metadata": {},
   "outputs": [
    {
     "name": "stdout",
     "output_type": "stream",
     "text": [
      "4\n"
     ]
    }
   ],
   "source": [
    "num = (3,5,6,5,3,7,8,3,9,3,2,1)\n",
    "v = num.count(3)\n",
    "print(v)"
   ]
  },
  {
   "cell_type": "markdown",
   "metadata": {},
   "source": [
    "##### tuple index method"
   ]
  },
  {
   "cell_type": "code",
   "execution_count": 29,
   "metadata": {},
   "outputs": [
    {
     "name": "stdout",
     "output_type": "stream",
     "text": [
      "2\n"
     ]
    }
   ],
   "source": [
    "thistuple = (3,5,8,6,8,2)\n",
    "o = thistuple.index(8)\n",
    "print(o)"
   ]
  }
 ],
 "metadata": {
  "kernelspec": {
   "display_name": "Python 3",
   "language": "python",
   "name": "python3"
  },
  "language_info": {
   "codemirror_mode": {
    "name": "ipython",
    "version": 3
   },
   "file_extension": ".py",
   "mimetype": "text/x-python",
   "name": "python",
   "nbconvert_exporter": "python",
   "pygments_lexer": "ipython3",
   "version": "3.12.4"
  }
 },
 "nbformat": 4,
 "nbformat_minor": 2
}
